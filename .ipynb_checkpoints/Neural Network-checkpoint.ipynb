{
 "cells": [
  {
   "cell_type": "markdown",
   "metadata": {},
   "source": [
    "<img src=\"img/1234.png\">"
   ]
  },
  {
   "cell_type": "markdown",
   "metadata": {},
   "source": [
    "Simplest Neural Network is perceptron\n",
    "\n",
    "Perceptron\n",
    "* single layer of neural network that uses a list of input features $X_1 ... X_n$\n",
    "\n",
    "* bias is just like the intercept in the linear regression\n",
    "* activation function is usually non linear \n",
    "    > sigmoid function\n",
    "    \n",
    "    > $\\sigma(z)$ = $\\frac{1}{1 + e^{-z}}$"
   ]
  },
  {
   "cell_type": "markdown",
   "metadata": {},
   "source": [
    "Framework :\n",
    "\n",
    "* scikit-learn:\n",
    "    sklearn.neural_network.MLPClassifier\n",
    "* mxnet\n",
    "* tensorflow\n",
    "* caffe\n",
    "* pytorch"
   ]
  },
  {
   "cell_type": "markdown",
   "metadata": {},
   "source": [
    "# Convolutional Neural Networks\n",
    "\n",
    "Image analysis\n",
    "\n",
    "<img src=\"img/12345.png\">"
   ]
  },
  {
   "cell_type": "code",
   "execution_count": null,
   "metadata": {},
   "outputs": [],
   "source": []
  }
 ],
 "metadata": {
  "kernelspec": {
   "display_name": "Python 3.7.5 64-bit",
   "language": "python",
   "name": "python37564bit755892d5a38644fe88af47f4cac36ffe"
  },
  "language_info": {
   "codemirror_mode": {
    "name": "ipython",
    "version": 3
   },
   "file_extension": ".py",
   "mimetype": "text/x-python",
   "name": "python",
   "nbconvert_exporter": "python",
   "pygments_lexer": "ipython3",
   "version": "3.7.5"
  }
 },
 "nbformat": 4,
 "nbformat_minor": 4
}
