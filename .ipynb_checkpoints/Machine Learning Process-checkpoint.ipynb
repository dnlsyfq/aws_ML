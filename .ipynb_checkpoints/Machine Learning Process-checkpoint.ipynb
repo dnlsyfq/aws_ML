{
 "cells": [
  {
   "cell_type": "markdown",
   "metadata": {},
   "source": [
    "# ML Pipeline\n",
    "\n",
    "### 1.  Data Collectiono & Integration\n",
    "\n",
    "### 2. Data Preparation\n",
    "\n",
    "### 3. Data Visualisation & Analysis\n",
    "\n",
    "### 4. Feature Selection & Engineering\n",
    "\n",
    "### 5. Model Training\n",
    "\n",
    "### 6. Model Evaluation\n",
    "\n",
    "### 7. Prediction"
   ]
  },
  {
   "cell_type": "markdown",
   "metadata": {},
   "source": [
    "---\n",
    "\n",
    "## Business Problem : How to Route\n",
    "\n",
    "## ML Problem : \n",
    "    * Is it the right solution\n",
    "    * ML uses data , to train model , the model uses predictions \n",
    "    * To predict agents skills \n",
    "    "
   ]
  },
  {
   "cell_type": "code",
   "execution_count": null,
   "metadata": {},
   "outputs": [],
   "source": []
  }
 ],
 "metadata": {
  "kernelspec": {
   "display_name": "'Python Interactive'",
   "language": "python",
   "name": "1d4e2c9e-28ad-43eb-ad59-0dfcefc68a99"
  },
  "language_info": {
   "codemirror_mode": {
    "name": "ipython",
    "version": 3
   },
   "file_extension": ".py",
   "mimetype": "text/x-python",
   "name": "python",
   "nbconvert_exporter": "python",
   "pygments_lexer": "ipython3",
   "version": "3.6.4"
  },
  "latex_envs": {
   "LaTeX_envs_menu_present": true,
   "autoclose": false,
   "autocomplete": true,
   "bibliofile": "biblio.bib",
   "cite_by": "apalike",
   "current_citInitial": 1,
   "eqLabelWithNumbers": true,
   "eqNumInitial": 1,
   "hotkeys": {
    "equation": "Ctrl-E",
    "itemize": "Ctrl-I"
   },
   "labels_anchors": false,
   "latex_user_defs": false,
   "report_style_numbering": false,
   "user_envs_cfg": false
  }
 },
 "nbformat": 4,
 "nbformat_minor": 2
}
