{
 "cells": [
  {
   "cell_type": "markdown",
   "metadata": {},
   "source": [
    "# ML Pipeline\n",
    "\n",
    "### ML Problem Framing\n",
    "\n",
    "### 1.  Data Collection & Integration\n",
    "\n",
    "### 2. Data Preparation\n",
    "\n",
    "### 3. Data Visualisation & Analysis\n",
    "\n",
    "### 4. Feature Selection & Engineering\n",
    "\n",
    "### 5. Model Training\n",
    "\n",
    "### 6. Model Evaluation\n",
    "\n",
    "### 7. Prediction"
   ]
  },
  {
   "cell_type": "markdown",
   "metadata": {},
   "source": [
    "# ML Problem Framing\n",
    "---\n",
    "\n",
    "### Business Problem : \n",
    "    * How to route customers to agent \n",
    "\n",
    "### ML Problem : \n",
    "    * Is it the right solution\n",
    "    * ML uses data , to train model , the model uses predictions \n",
    "    * To predict agents skills \n",
    "    \n",
    "    \n",
    "    1. Binary : Two groups\n",
    "    2. Multi-class : More than two groups\n",
    "    3. Regression : Continous values"
   ]
  },
  {
   "cell_type": "markdown",
   "metadata": {},
   "source": [
    "# 1. Data Collection & Integration\n",
    "---\n",
    "* Incomplete / Messy / Irrelevant \n",
    "* Collect and Compile\n",
    "\n",
    "\n",
    "\n",
    "\n",
    "\n",
    "* **Supervised Learning** If the value is known , then Prediction is called Label\n",
    "\n",
    "|Features|Label|\n",
    "|---|---|\n",
    "\n",
    "* **Unsupervised Learning** If the value is unknown , then Prediction is called Target\n",
    "\n",
    "\n",
    "* Ratio of features to data points\n",
    "> *should have 10 times the number of data points as features*\n",
    "**i.e 5 features , 50 data points**\n"
   ]
  },
  {
   "cell_type": "markdown",
   "metadata": {},
   "source": [
    "# 2. Data Preparation\n",
    "---\n",
    "\n",
    "* Manually and critically explore data\n",
    "* Label to include or to exclude from ML modelling \n",
    "\n",
    "# 3. Data Visualization & Analysis\n",
    "---\n",
    "\n",
    "# 4. Feature Selection & Engineering\n",
    "---\n",
    "* Original features -> Engineered features \n",
    "* Minimal correlation among features , Maximum correlation among features and desired output \n",
    "* by visualization\n",
    "\n",
    "# 5. Model Training\n",
    "---\n",
    "* Splitting data \n",
    "    * Training data : Feature and Label : 70%\n",
    "        * SML : Features and labels\n",
    "    * Dev data : For Tune and Tweak : 15%\n",
    "    * Test data: Feature only : 15%\n",
    "* Randomize to avoid bias , (avoid sequeantial , feed randomize it )\n",
    "    \n",
    "* Overfitting : when model learns the particulars of dataset too well\n",
    "\n",
    "* Underfitting : lack of data at granular level \n",
    "\n",
    "* To combat overfitting & underfitting : hyperparameters .\n",
    "    * Tune to improve performance \n",
    "    * Learning rate\n",
    "    * Types of hyperparameter tuning :\n",
    "        * Loss function\n",
    "        * Regularization\n",
    "        * Learning parameters \n",
    "\n",
    "* Bias : The gap between predicted value and actual value\n",
    "\n",
    "* Variance : How dispersed your predicted values are \n",
    "\n",
    "<img src=\"img/biasnvariance.JPG\">\n",
    "\n",
    "* Ideal case  , Low variance Low bias \n",
    "\n",
    "# 6. Model Evaluation\n",
    "---\n",
    "\n",
    "* Confusion Matrix\n",
    "* Precision , Recall \n",
    "\n",
    "* Accuracy\n",
    "<br>\n",
    "$\\large \\frac{\\text{ Correct Predictions }}{\\text{Total Predictions}}$\n",
    "\n",
    "\n",
    "* Precision\n",
    "<br>\n",
    "$\\large \\frac{\\text{ True Positives }}{\\text{True Positives + False Negatives}}$"
   ]
  },
  {
   "cell_type": "markdown",
   "metadata": {},
   "source": [
    " * Compare Algorithms\n",
    " \n",
    "|Supervised|Unsupervised|Reinforcement|\n",
    "|---|---|---|\n",
    "|* Regression  Analysis<br>* Decision Trees<br>* KNN<br>* Neural Networks|* K-means<br>* Anamoly detection<br>* Neural networks|* Q-learning<br>* SARSA|\n",
    "     \n",
    "\n",
    "\n"
   ]
  },
  {
   "cell_type": "markdown",
   "metadata": {},
   "source": [
    "# 7. Prediction\n",
    "\n",
    "Model Training -> Model Evaluation -> Prediction"
   ]
  },
  {
   "cell_type": "code",
   "execution_count": 1,
   "metadata": {},
   "outputs": [
    {
     "data": {
      "text/plain": [
       "0.9767147557580359"
      ]
     },
     "execution_count": 1,
     "metadata": {},
     "output_type": "execute_result"
    }
   ],
   "source": [
    "3859 / (3859 + 92)"
   ]
  },
  {
   "cell_type": "code",
   "execution_count": null,
   "metadata": {},
   "outputs": [],
   "source": []
  }
 ],
 "metadata": {
  "kernelspec": {
   "display_name": "Python 3.6.4 64-bit",
   "language": "python",
   "name": "python36464bit49be060b4cd54268b608c867974433c7"
  },
  "language_info": {
   "codemirror_mode": {
    "name": "ipython",
    "version": 3
   },
   "file_extension": ".py",
   "mimetype": "text/x-python",
   "name": "python",
   "nbconvert_exporter": "python",
   "pygments_lexer": "ipython3",
   "version": "3.6.4"
  },
  "latex_envs": {
   "LaTeX_envs_menu_present": true,
   "autoclose": false,
   "autocomplete": true,
   "bibliofile": "biblio.bib",
   "cite_by": "apalike",
   "current_citInitial": 1,
   "eqLabelWithNumbers": true,
   "eqNumInitial": 1,
   "hotkeys": {
    "equation": "Ctrl-E",
    "itemize": "Ctrl-I"
   },
   "labels_anchors": false,
   "latex_user_defs": false,
   "report_style_numbering": false,
   "user_envs_cfg": false
  }
 },
 "nbformat": 4,
 "nbformat_minor": 2
}
