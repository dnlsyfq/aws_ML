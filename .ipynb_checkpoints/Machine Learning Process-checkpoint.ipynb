{
 "cells": [
  {
   "cell_type": "markdown",
   "metadata": {},
   "source": [
    "# ML Pipeline\n",
    "\n",
    "### ML Problem Framing\n",
    "\n",
    "### 1.  Data Collection & Integration\n",
    "\n",
    "### 2. Data Preparation\n",
    "\n",
    "### 3. Data Visualisation & Analysis\n",
    "\n",
    "### 4. Feature Selection & Engineering\n",
    "\n",
    "### 5. Model Training\n",
    "\n",
    "### 6. Model Evaluation\n",
    "\n",
    "### 7. Prediction"
   ]
  },
  {
   "cell_type": "markdown",
   "metadata": {},
   "source": [
    "# ML Problem Framing\n",
    "---\n",
    "\n",
    "### Business Problem : \n",
    "    * How to route customers to agent \n",
    "\n",
    "### ML Problem : \n",
    "    * Is it the right solution\n",
    "    * ML uses data , to train model , the model uses predictions \n",
    "    * To predict agents skills \n",
    "    \n",
    "    \n",
    "    1. Binary : Two groups\n",
    "    2. Multi-class : More than two groups\n",
    "    3. Regression : Continous values"
   ]
  },
  {
   "cell_type": "markdown",
   "metadata": {},
   "source": [
    "# 1. Data Collection & Integration\n",
    "---\n",
    "* Incomplete / Messy / Irrelevant \n",
    "* Collect and Compile\n",
    "\n",
    "\n",
    "\n",
    "\n",
    "\n",
    "* **Supervised Learning** If the value is known , then Prediction is called Label\n",
    "\n",
    "|Features|Label|\n",
    "|---|---|\n",
    "\n",
    "* **Unsupervised Learning** If the value is unknown , then Prediction is called Target\n",
    "\n",
    "\n",
    "* Ratio of features to data points\n",
    "\n"
   ]
  },
  {
   "cell_type": "code",
   "execution_count": null,
   "metadata": {},
   "outputs": [],
   "source": []
  }
 ],
 "metadata": {
  "kernelspec": {
   "display_name": "Python 3.7.4 64-bit",
   "language": "python",
   "name": "python37464bit35311e3470d14a38b7fcc4af78d751a3"
  },
  "language_info": {
   "codemirror_mode": {
    "name": "ipython",
    "version": 3
   },
   "file_extension": ".py",
   "mimetype": "text/x-python",
   "name": "python",
   "nbconvert_exporter": "python",
   "pygments_lexer": "ipython3",
   "version": "3.7.4"
  },
  "latex_envs": {
   "LaTeX_envs_menu_present": true,
   "autoclose": false,
   "autocomplete": true,
   "bibliofile": "biblio.bib",
   "cite_by": "apalike",
   "current_citInitial": 1,
   "eqLabelWithNumbers": true,
   "eqNumInitial": 1,
   "hotkeys": {
    "equation": "Ctrl-E",
    "itemize": "Ctrl-I"
   },
   "labels_anchors": false,
   "latex_user_defs": false,
   "report_style_numbering": false,
   "user_envs_cfg": false
  }
 },
 "nbformat": 4,
 "nbformat_minor": 2
}
