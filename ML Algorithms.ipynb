{
 "cells": [
  {
   "cell_type": "markdown",
   "metadata": {},
   "source": [
    "# ML Algorithm\n",
    "\n",
    "* Supervised Learning\n",
    "* Unsupervised Learning\n",
    "* Reinforcement Learning\n",
    "    > Building an agent exhibiting intelligent behaviours . Agent controlled by algorithm is interacting with the possibly completely unknown environment and is learning optimal actions via trial and error .Agent is getting reward or penalty called reinforcement\n",
    "    \n",
    "* Deep Learning\n",
    "\n",
    "\n",
    "## Linear Supervised Algorithms\n",
    "\n",
    "* Amazon SageMaker : Linear Learner\n",
    "    * Linear + Logistic Regression\n",
    "    \n",
    "## Non-Linear Supervised Algorithms\n",
    "\n",
    "* XGBoost : Gradient Boosted Trees\n",
    "\n",
    "* Factorization Machines :\n",
    "    * Good for high dimensional sparse datasets\n",
    "    * e.g. Click Prediction & Item Recommendation \n",
    "\n",
    "\n",
    "## Unsupervise Learning : Clustering\n",
    "\n",
    "* Find how many clusters \n",
    "* Different algorithm / hyperparameters = different clusters\n",
    "* K-Means \n",
    "* PCA \n",
    "* Latent Dirichlet Allocation LDA\n",
    "\n",
    "# Deep Learning\n",
    "\n",
    "<img src=\"img/123456.png\">\n"
   ]
  },
  {
   "cell_type": "code",
   "execution_count": null,
   "metadata": {},
   "outputs": [],
   "source": []
  }
 ],
 "metadata": {
  "kernelspec": {
   "display_name": "Python 3.7.5 64-bit",
   "language": "python",
   "name": "python37564bit755892d5a38644fe88af47f4cac36ffe"
  },
  "language_info": {
   "codemirror_mode": {
    "name": "ipython",
    "version": 3
   },
   "file_extension": ".py",
   "mimetype": "text/x-python",
   "name": "python",
   "nbconvert_exporter": "python",
   "pygments_lexer": "ipython3",
   "version": "3.7.5"
  }
 },
 "nbformat": 4,
 "nbformat_minor": 4
}
