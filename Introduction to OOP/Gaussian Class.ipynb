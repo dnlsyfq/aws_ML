{
 "cells": [
  {
   "cell_type": "markdown",
   "metadata": {},
   "source": [
    "### Gaussian Distribution Formulas\n",
    "Probability Density function\n",
    "\n",
    "\n",
    "$\\large f(x|\\mu,\\sigma^2)$ =$\\large \\frac{1}{\\sqrt{2\\pi\\sigma^2}}$$\\large e^-{\\large \\frac{(x-\\mu)^2}{2\\sigma^2}}$\n",
    "\n",
    "\n",
    "where:\n",
    "\n",
    "$\\mu$ : mean\n",
    "<br>\n",
    "$\\sigma$ : standard deviation\n",
    "<br>\n",
    "$\\sigma^2$ : variance\n",
    "\n"
   ]
  },
  {
   "cell_type": "markdown",
   "metadata": {},
   "source": [
    "### Binomial Distribution Formulas\n",
    "\n",
    "* **mean** \n",
    "\n",
    "$\\large \\mu = n * p $\n",
    "\n",
    "> fair coin has a probability of a positive outcome (heads) p = 0.5. If you flip a coin 20 times, the mean would be 20 * 0.5 = 10; you'd expect to get 10 heads\n",
    "\n",
    "<br>\n",
    "\n",
    "* **variance**\n",
    "\n",
    "$\\large \\sigma^2 = n * p * (1-p)$\n",
    "\n",
    "> Continuing with the coin example, n would be the number of coin tosses and p would be the probability of getting heads.\n",
    "\n",
    "<br>\n",
    "\n",
    "* **standard deviation**\n",
    "\n",
    "$\\large \\sigma = \\sqrt{n*p*(1-p)}$\n",
    "\n",
    "<br>\n",
    "\n",
    "* **probability density function**\n",
    "\n",
    "$\\large f(k,n,p) = \\frac{n!}{k!(n-k)!}p^k(1-p)^{(n-k)}$"
   ]
  },
  {
   "cell_type": "markdown",
   "metadata": {},
   "source": [
    "Assume the average weight of an American adult male is 180 pounds with a standard deviation of 34 pounds. The distribution of weights follows a normal distribution. What is the probability that a man weighs exactly 185 pounds?\n",
    "\n",
    "> Great job! When finding the probabilities using a continuous distribution, the probability of obtaining an exact value is zero. If the question had been what is the probability that a man's weight is between 184.99 and 185.01, then the answer would be a small but positive value of 0.0002."
   ]
  },
  {
   "cell_type": "markdown",
   "metadata": {},
   "source": [
    "Like in the previous question, assume the average weight of an American adult male is 180 pounds with a standard deviation of 34 pounds. The distribution of weights follows a normal distribution. What is the probability that a man weighs somewhere between 120 and 155 pounds?\n",
    "\n",
    "> particular Gaussian distribution between 120 and 155 would be 0.19. The area under the Gaussian curve represents the probability."
   ]
  },
  {
   "cell_type": "markdown",
   "metadata": {},
   "source": [
    "Now consider a Binomial distribution. Assume that 15% of the population is allergic to cats. If you randomly select 60 people for a medical trial, what is the probability that 7 of those people are allergic to cats?\n",
    "\n",
    "> 0.12"
   ]
  },
  {
   "cell_type": "code",
   "execution_count": null,
   "metadata": {},
   "outputs": [],
   "source": []
  }
 ],
 "metadata": {
  "kernelspec": {
   "display_name": "Python 3",
   "language": "python",
   "name": "python3"
  },
  "language_info": {
   "codemirror_mode": {
    "name": "ipython",
    "version": 3
   },
   "file_extension": ".py",
   "mimetype": "text/x-python",
   "name": "python",
   "nbconvert_exporter": "python",
   "pygments_lexer": "ipython3",
   "version": "3.7.4"
  }
 },
 "nbformat": 4,
 "nbformat_minor": 2
}
