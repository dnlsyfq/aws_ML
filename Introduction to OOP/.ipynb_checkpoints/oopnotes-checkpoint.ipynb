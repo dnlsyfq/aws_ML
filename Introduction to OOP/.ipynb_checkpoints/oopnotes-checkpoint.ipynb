{
 "cells": [
  {
   "cell_type": "markdown",
   "metadata": {},
   "source": [
    "### Sum 2 Gaussian Distribution\n",
    "\n",
    "$\\mu_X + \\mu_Y$"
   ]
  },
  {
   "cell_type": "markdown",
   "metadata": {},
   "source": [
    "### Sum  2  Gaussian Distribution\n",
    "\n",
    "$\\sqrt {\\sigma_X^2 + \\sigma_Y^2}$"
   ]
  },
  {
   "cell_type": "code",
   "execution_count": 11,
   "metadata": {},
   "outputs": [],
   "source": [
    "import math\n",
    "import matplotlib.pyplot as plt\n",
    "\n",
    "class Gaussian():\n",
    "    def __init__(self,mu=0,sigma=1):\n",
    "        self.mean = mu\n",
    "        self.stdev = sigma\n",
    "        self.data = []\n",
    "        \n",
    "    def calculate_mean(self):\n",
    "        avg = 1.0 * sum(self.data)/len(self.data)\n",
    "        self.mean = avg\n",
    "        return self.mean\n",
    "    \n",
    "    def calculate_stdev(self,sample=True):\n",
    "        if sample:\n",
    "            n = len(self.data) - 1\n",
    "        else:\n",
    "            n = len(self.data)\n",
    "            \n",
    "        mean = self.mean\n",
    "        sigma = 0\n",
    "        for d in self.data:\n",
    "            sigma += (d-mean) ** 2\n",
    "            \n",
    "        sigma = math.sqrt(sigma/n)\n",
    "        self.stdev = sigma\n",
    "        return self.stdev\n",
    "    \n",
    "    def __add__(self,other):\n",
    "        result = Gaussian()\n",
    "        result.mean = self.mean + other.mean\n",
    "        result.stdev = math.sqrt(self.stdev ** 2 + other.stdev ** 2)\n",
    "        return result\n",
    "    \n",
    "    def __repr__(self):\n",
    "        return \"mean {}, standard deviation {}\".format(self.mean,self.stdev)\n",
    "    \n",
    "    \n",
    "    def read_data(self,file_name,sample=True):\n",
    "        \n",
    "        with open(file_name) as file:\n",
    "            data_list = []\n",
    "            line = file.readline()\n",
    "            while line:\n",
    "                data_list.append(int(line))\n",
    "                line = file.readline()\n",
    "        file.close()\n",
    "        \n",
    "        self.data = data_list\n",
    "        self.mean = self.calculate_mean()\n",
    "        self.stdev = self.calculate_stdev(sample)\n",
    "        \n",
    "    def plot_histogram(self):\n",
    "        plt.hist(self.data)\n",
    "        plt.title('Histogram of Data')\n",
    "        plt.xlabel('data')\n",
    "        plt.ylabel('count')\n",
    "        \n",
    "    def pdf(self,x):\n",
    "        \n",
    "        return (1.0/(self.stdev * math.sqrt(2*math.pi))) * math.exp(-0.5*((x - self.mean)/self.stdev)**2)\n",
    "    \n",
    "    \n",
    "    def plot_histogram_pdf(self,n_spaces=50):\n",
    "        mu = self.mean\n",
    "        sigma = self.stdev\n",
    "        min_range = min(self.data)\n",
    "        max_range = max(self.data)\n",
    "        \n",
    "        interval = 1.0 * (max_range-min_range)/n_spaces\n",
    "        \n",
    "        x = []\n",
    "        y = []\n",
    "        \n",
    "        for i in range(n_spaces):\n",
    "            tmp = min_range + interval*i\n",
    "            x.append(tmp)\n",
    "            y.append(self.pdf(tmp))\n",
    "            \n",
    "        fig,axes = plt.subplots(2,sharex=True)\n",
    "        fig.subplots_adjust(hspace=.5)\n",
    "        axes[0].hist(self.data,density=True)\n",
    "        axes[0].set_title('Normed Histogram of Data')\n",
    "        axes[0].set_ylabel('Density')\n",
    "        \n",
    "        axes[1].plot(x,y)\n",
    "        axes[1].set_title('Normal Distribution for \\n Sample Mean and Sample Standard Deviation')\n",
    "        axes[0].set_ylabel('Density')\n",
    "        \n",
    "        plt.show()\n",
    "        \n",
    "        return x,y\n",
    "    "
   ]
  },
  {
   "cell_type": "code",
   "execution_count": 12,
   "metadata": {},
   "outputs": [],
   "source": [
    "gaussian_one = Gaussian()\n",
    "gaussian_one.read_data('numbers.txt')"
   ]
  },
  {
   "cell_type": "code",
   "execution_count": 14,
   "metadata": {},
   "outputs": [],
   "source": [
    "gaussian_one = Gaussian(5,2)\n",
    "gaussian_two = Gaussian(10,1)\n",
    "\n"
   ]
  },
  {
   "cell_type": "code",
   "execution_count": 15,
   "metadata": {},
   "outputs": [],
   "source": [
    "gaussian_sum = gaussian_one + gaussian_two"
   ]
  },
  {
   "cell_type": "code",
   "execution_count": 16,
   "metadata": {},
   "outputs": [
    {
     "name": "stdout",
     "output_type": "stream",
     "text": [
      "15\n",
      "2.23606797749979\n"
     ]
    }
   ],
   "source": [
    "print(gaussian_sum.mean)\n",
    "print(gaussian_sum.stdev)"
   ]
  },
  {
   "cell_type": "code",
   "execution_count": 17,
   "metadata": {},
   "outputs": [
    {
     "data": {
      "text/plain": [
       "mean 5, standard deviation 2"
      ]
     },
     "execution_count": 17,
     "metadata": {},
     "output_type": "execute_result"
    }
   ],
   "source": [
    "gaussian_one"
   ]
  },
  {
   "cell_type": "markdown",
   "metadata": {},
   "source": [
    "### Inheritance\n",
    "\n"
   ]
  },
  {
   "cell_type": "code",
   "execution_count": 18,
   "metadata": {},
   "outputs": [],
   "source": [
    "class Clothing:\n",
    "    def __init__(self,color,size,style,price):\n",
    "        self.color = color\n",
    "        self.size = size\n",
    "        self.style = style\n",
    "        self.price = price\n",
    "        \n",
    "    def change_price(self,price):\n",
    "        self.price = price\n",
    "        \n",
    "    def calculate_discount(self,discount):\n",
    "        return self.price * (1 - discount)\n",
    "    \n",
    "    \n",
    "    "
   ]
  },
  {
   "cell_type": "code",
   "execution_count": 19,
   "metadata": {},
   "outputs": [],
   "source": [
    "class Shirt(Clothing):\n",
    "    def __init__(self,color,size,style,price,long_or_short):\n",
    "        Clothing.__init__(self,color,size,style,price)\n",
    "    \n",
    "    def double_price(self):\n",
    "        self.price = 2 * self.price\n",
    "        \n",
    "class Pants(Clothing):\n",
    "    def __init__(self,color,size,style,price,waist):\n",
    "        \n",
    "        Clothing.__init__(self,color,size,style,price)\n",
    "        self.waist = waist\n",
    "        \n",
    "    def calculate_discount(self,discount):\n",
    "        return self.price * (1 - discount / 2)\n",
    "        \n",
    "        \n",
    "        \n",
    "        "
   ]
  },
  {
   "cell_type": "markdown",
   "metadata": {},
   "source": [
    "### Inheritance Gaussian Class "
   ]
  },
  {
   "cell_type": "code",
   "execution_count": 23,
   "metadata": {},
   "outputs": [],
   "source": [
    "class Distribution:\n",
    "    \n",
    "    def __init__(self,mu=0,sigma=1):\n",
    "        self.mean = mu\n",
    "        self.stdev = sigma\n",
    "        self.data = []\n",
    "        \n",
    "    def read_data_file(self,file_name):\n",
    "        with open(file_name) as file:\n",
    "            data_list = []\n",
    "            line = file.readline()\n",
    "            while line:\n",
    "                data_list.append(int(line))\n",
    "                line = file.readline()\n",
    "        file.close()\n",
    "        \n",
    "        self.data = data_list"
   ]
  },
  {
   "cell_type": "code",
   "execution_count": null,
   "metadata": {},
   "outputs": [],
   "source": [
    "import math\n",
    "import matplotlib.pyplot as plt \n",
    "\n",
    "class Gaussian(Distribution):\n",
    "    def __init__(self,mu=0,sigma=1):\n",
    "        Distribution.__init__(self,mu,sigma)\n",
    "    \n",
    "    \n",
    "    \n",
    "    \n",
    "    "
   ]
  }
 ],
 "metadata": {
  "kernelspec": {
   "display_name": "'Python Interactive'",
   "language": "python",
   "name": "1d4e2c9e-28ad-43eb-ad59-0dfcefc68a99"
  },
  "language_info": {
   "codemirror_mode": {
    "name": "ipython",
    "version": 3
   },
   "file_extension": ".py",
   "mimetype": "text/x-python",
   "name": "python",
   "nbconvert_exporter": "python",
   "pygments_lexer": "ipython3",
   "version": "3.6.4"
  },
  "latex_envs": {
   "LaTeX_envs_menu_present": true,
   "autoclose": false,
   "autocomplete": true,
   "bibliofile": "biblio.bib",
   "cite_by": "apalike",
   "current_citInitial": 1,
   "eqLabelWithNumbers": true,
   "eqNumInitial": 1,
   "hotkeys": {
    "equation": "Ctrl-E",
    "itemize": "Ctrl-I"
   },
   "labels_anchors": false,
   "latex_user_defs": false,
   "report_style_numbering": false,
   "user_envs_cfg": false
  }
 },
 "nbformat": 4,
 "nbformat_minor": 2
}
